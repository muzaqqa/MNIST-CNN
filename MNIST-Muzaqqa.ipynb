{
  "nbformat": 4,
  "nbformat_minor": 0,
  "metadata": {
    "colab": {
      "provenance": [],
      "gpuType": "T4",
      "include_colab_link": true
    },
    "kernelspec": {
      "name": "python3",
      "display_name": "Python 3"
    },
    "language_info": {
      "name": "python"
    },
    "accelerator": "GPU"
  },
  "cells": [
    {
      "cell_type": "markdown",
      "metadata": {
        "id": "view-in-github",
        "colab_type": "text"
      },
      "source": [
        "<a href=\"https://colab.research.google.com/github/muzaqqa/MNIST-CNN/blob/master/MNIST-Muzaqqa.ipynb\" target=\"_parent\"><img src=\"https://colab.research.google.com/assets/colab-badge.svg\" alt=\"Open In Colab\"/></a>"
      ]
    },
    {
      "cell_type": "code",
      "execution_count": null,
      "metadata": {
        "id": "3Tn2dEZbLik4"
      },
      "outputs": [],
      "source": [
        "import numpy as np\n",
        "import pandas as pd\n",
        "import matplotlib.pyplot as plt\n",
        "from sklearn.model_selection import train_test_split\n",
        "\n",
        "from keras.preprocessing.image import ImageDataGenerator\n",
        "from keras.utils import to_categorical\n",
        "from keras.models import Sequential, load_model\n",
        "from keras.layers import Dense, Dropout, Flatten\n",
        "from keras.layers import Conv2D, MaxPooling2D, BatchNormalization\n",
        "from keras.optimizers import Adam\n",
        "from keras.callbacks import LearningRateScheduler\n",
        "from keras.callbacks import EarlyStopping"
      ]
    },
    {
      "cell_type": "code",
      "source": [
        "#loading data\n",
        "train = pd.read_csv('train.csv')\n",
        "test = pd.read_csv('test.csv')\n",
        "df = train.copy()\n",
        "df_test = test.copy()"
      ],
      "metadata": {
        "id": "iJ1tcNHyL0MC"
      },
      "execution_count": null,
      "outputs": []
    },
    {
      "cell_type": "code",
      "source": [
        "#Just having a look at the data\n",
        "df.describe()"
      ],
      "metadata": {
        "id": "e7gJQi7ANn-p",
        "colab": {
          "base_uri": "https://localhost:8080/",
          "height": 349
        },
        "outputId": "af578928-59cd-4e71-fb1e-4d082a91511c"
      },
      "execution_count": null,
      "outputs": [
        {
          "output_type": "execute_result",
          "data": {
            "text/plain": [
              "              label   pixel0   pixel1   pixel2   pixel3   pixel4   pixel5  \\\n",
              "count  39579.000000  39579.0  39579.0  39579.0  39579.0  39579.0  39579.0   \n",
              "mean       4.458526      0.0      0.0      0.0      0.0      0.0      0.0   \n",
              "std        2.887364      0.0      0.0      0.0      0.0      0.0      0.0   \n",
              "min        0.000000      0.0      0.0      0.0      0.0      0.0      0.0   \n",
              "25%        2.000000      0.0      0.0      0.0      0.0      0.0      0.0   \n",
              "50%        4.000000      0.0      0.0      0.0      0.0      0.0      0.0   \n",
              "75%        7.000000      0.0      0.0      0.0      0.0      0.0      0.0   \n",
              "max        9.000000      0.0      0.0      0.0      0.0      0.0      0.0   \n",
              "\n",
              "        pixel6   pixel7   pixel8  ...      pixel774      pixel775  \\\n",
              "count  39579.0  39579.0  39579.0  ...  39578.000000  39578.000000   \n",
              "mean       0.0      0.0      0.0  ...      0.226439      0.111451   \n",
              "std        0.0      0.0      0.0  ...      6.428706      4.420518   \n",
              "min        0.0      0.0      0.0  ...      0.000000      0.000000   \n",
              "25%        0.0      0.0      0.0  ...      0.000000      0.000000   \n",
              "50%        0.0      0.0      0.0  ...      0.000000      0.000000   \n",
              "75%        0.0      0.0      0.0  ...      0.000000      0.000000   \n",
              "max        0.0      0.0      0.0  ...    254.000000    254.000000   \n",
              "\n",
              "           pixel776      pixel777      pixel778      pixel779  pixel780  \\\n",
              "count  39578.000000  39578.000000  39578.000000  39578.000000   39578.0   \n",
              "mean       0.055814      0.020997      0.018293      0.003032       0.0   \n",
              "std        3.229002      1.810903      1.951601      0.426751       0.0   \n",
              "min        0.000000      0.000000      0.000000      0.000000       0.0   \n",
              "25%        0.000000      0.000000      0.000000      0.000000       0.0   \n",
              "50%        0.000000      0.000000      0.000000      0.000000       0.0   \n",
              "75%        0.000000      0.000000      0.000000      0.000000       0.0   \n",
              "max      253.000000    253.000000    254.000000     62.000000       0.0   \n",
              "\n",
              "       pixel781  pixel782  pixel783  \n",
              "count   39578.0   39578.0   39578.0  \n",
              "mean        0.0       0.0       0.0  \n",
              "std         0.0       0.0       0.0  \n",
              "min         0.0       0.0       0.0  \n",
              "25%         0.0       0.0       0.0  \n",
              "50%         0.0       0.0       0.0  \n",
              "75%         0.0       0.0       0.0  \n",
              "max         0.0       0.0       0.0  \n",
              "\n",
              "[8 rows x 785 columns]"
            ],
            "text/html": [
              "\n",
              "  <div id=\"df-35a0d567-1ecf-44ef-bc70-3edce051eda9\" class=\"colab-df-container\">\n",
              "    <div>\n",
              "<style scoped>\n",
              "    .dataframe tbody tr th:only-of-type {\n",
              "        vertical-align: middle;\n",
              "    }\n",
              "\n",
              "    .dataframe tbody tr th {\n",
              "        vertical-align: top;\n",
              "    }\n",
              "\n",
              "    .dataframe thead th {\n",
              "        text-align: right;\n",
              "    }\n",
              "</style>\n",
              "<table border=\"1\" class=\"dataframe\">\n",
              "  <thead>\n",
              "    <tr style=\"text-align: right;\">\n",
              "      <th></th>\n",
              "      <th>label</th>\n",
              "      <th>pixel0</th>\n",
              "      <th>pixel1</th>\n",
              "      <th>pixel2</th>\n",
              "      <th>pixel3</th>\n",
              "      <th>pixel4</th>\n",
              "      <th>pixel5</th>\n",
              "      <th>pixel6</th>\n",
              "      <th>pixel7</th>\n",
              "      <th>pixel8</th>\n",
              "      <th>...</th>\n",
              "      <th>pixel774</th>\n",
              "      <th>pixel775</th>\n",
              "      <th>pixel776</th>\n",
              "      <th>pixel777</th>\n",
              "      <th>pixel778</th>\n",
              "      <th>pixel779</th>\n",
              "      <th>pixel780</th>\n",
              "      <th>pixel781</th>\n",
              "      <th>pixel782</th>\n",
              "      <th>pixel783</th>\n",
              "    </tr>\n",
              "  </thead>\n",
              "  <tbody>\n",
              "    <tr>\n",
              "      <th>count</th>\n",
              "      <td>39579.000000</td>\n",
              "      <td>39579.0</td>\n",
              "      <td>39579.0</td>\n",
              "      <td>39579.0</td>\n",
              "      <td>39579.0</td>\n",
              "      <td>39579.0</td>\n",
              "      <td>39579.0</td>\n",
              "      <td>39579.0</td>\n",
              "      <td>39579.0</td>\n",
              "      <td>39579.0</td>\n",
              "      <td>...</td>\n",
              "      <td>39578.000000</td>\n",
              "      <td>39578.000000</td>\n",
              "      <td>39578.000000</td>\n",
              "      <td>39578.000000</td>\n",
              "      <td>39578.000000</td>\n",
              "      <td>39578.000000</td>\n",
              "      <td>39578.0</td>\n",
              "      <td>39578.0</td>\n",
              "      <td>39578.0</td>\n",
              "      <td>39578.0</td>\n",
              "    </tr>\n",
              "    <tr>\n",
              "      <th>mean</th>\n",
              "      <td>4.458526</td>\n",
              "      <td>0.0</td>\n",
              "      <td>0.0</td>\n",
              "      <td>0.0</td>\n",
              "      <td>0.0</td>\n",
              "      <td>0.0</td>\n",
              "      <td>0.0</td>\n",
              "      <td>0.0</td>\n",
              "      <td>0.0</td>\n",
              "      <td>0.0</td>\n",
              "      <td>...</td>\n",
              "      <td>0.226439</td>\n",
              "      <td>0.111451</td>\n",
              "      <td>0.055814</td>\n",
              "      <td>0.020997</td>\n",
              "      <td>0.018293</td>\n",
              "      <td>0.003032</td>\n",
              "      <td>0.0</td>\n",
              "      <td>0.0</td>\n",
              "      <td>0.0</td>\n",
              "      <td>0.0</td>\n",
              "    </tr>\n",
              "    <tr>\n",
              "      <th>std</th>\n",
              "      <td>2.887364</td>\n",
              "      <td>0.0</td>\n",
              "      <td>0.0</td>\n",
              "      <td>0.0</td>\n",
              "      <td>0.0</td>\n",
              "      <td>0.0</td>\n",
              "      <td>0.0</td>\n",
              "      <td>0.0</td>\n",
              "      <td>0.0</td>\n",
              "      <td>0.0</td>\n",
              "      <td>...</td>\n",
              "      <td>6.428706</td>\n",
              "      <td>4.420518</td>\n",
              "      <td>3.229002</td>\n",
              "      <td>1.810903</td>\n",
              "      <td>1.951601</td>\n",
              "      <td>0.426751</td>\n",
              "      <td>0.0</td>\n",
              "      <td>0.0</td>\n",
              "      <td>0.0</td>\n",
              "      <td>0.0</td>\n",
              "    </tr>\n",
              "    <tr>\n",
              "      <th>min</th>\n",
              "      <td>0.000000</td>\n",
              "      <td>0.0</td>\n",
              "      <td>0.0</td>\n",
              "      <td>0.0</td>\n",
              "      <td>0.0</td>\n",
              "      <td>0.0</td>\n",
              "      <td>0.0</td>\n",
              "      <td>0.0</td>\n",
              "      <td>0.0</td>\n",
              "      <td>0.0</td>\n",
              "      <td>...</td>\n",
              "      <td>0.000000</td>\n",
              "      <td>0.000000</td>\n",
              "      <td>0.000000</td>\n",
              "      <td>0.000000</td>\n",
              "      <td>0.000000</td>\n",
              "      <td>0.000000</td>\n",
              "      <td>0.0</td>\n",
              "      <td>0.0</td>\n",
              "      <td>0.0</td>\n",
              "      <td>0.0</td>\n",
              "    </tr>\n",
              "    <tr>\n",
              "      <th>25%</th>\n",
              "      <td>2.000000</td>\n",
              "      <td>0.0</td>\n",
              "      <td>0.0</td>\n",
              "      <td>0.0</td>\n",
              "      <td>0.0</td>\n",
              "      <td>0.0</td>\n",
              "      <td>0.0</td>\n",
              "      <td>0.0</td>\n",
              "      <td>0.0</td>\n",
              "      <td>0.0</td>\n",
              "      <td>...</td>\n",
              "      <td>0.000000</td>\n",
              "      <td>0.000000</td>\n",
              "      <td>0.000000</td>\n",
              "      <td>0.000000</td>\n",
              "      <td>0.000000</td>\n",
              "      <td>0.000000</td>\n",
              "      <td>0.0</td>\n",
              "      <td>0.0</td>\n",
              "      <td>0.0</td>\n",
              "      <td>0.0</td>\n",
              "    </tr>\n",
              "    <tr>\n",
              "      <th>50%</th>\n",
              "      <td>4.000000</td>\n",
              "      <td>0.0</td>\n",
              "      <td>0.0</td>\n",
              "      <td>0.0</td>\n",
              "      <td>0.0</td>\n",
              "      <td>0.0</td>\n",
              "      <td>0.0</td>\n",
              "      <td>0.0</td>\n",
              "      <td>0.0</td>\n",
              "      <td>0.0</td>\n",
              "      <td>...</td>\n",
              "      <td>0.000000</td>\n",
              "      <td>0.000000</td>\n",
              "      <td>0.000000</td>\n",
              "      <td>0.000000</td>\n",
              "      <td>0.000000</td>\n",
              "      <td>0.000000</td>\n",
              "      <td>0.0</td>\n",
              "      <td>0.0</td>\n",
              "      <td>0.0</td>\n",
              "      <td>0.0</td>\n",
              "    </tr>\n",
              "    <tr>\n",
              "      <th>75%</th>\n",
              "      <td>7.000000</td>\n",
              "      <td>0.0</td>\n",
              "      <td>0.0</td>\n",
              "      <td>0.0</td>\n",
              "      <td>0.0</td>\n",
              "      <td>0.0</td>\n",
              "      <td>0.0</td>\n",
              "      <td>0.0</td>\n",
              "      <td>0.0</td>\n",
              "      <td>0.0</td>\n",
              "      <td>...</td>\n",
              "      <td>0.000000</td>\n",
              "      <td>0.000000</td>\n",
              "      <td>0.000000</td>\n",
              "      <td>0.000000</td>\n",
              "      <td>0.000000</td>\n",
              "      <td>0.000000</td>\n",
              "      <td>0.0</td>\n",
              "      <td>0.0</td>\n",
              "      <td>0.0</td>\n",
              "      <td>0.0</td>\n",
              "    </tr>\n",
              "    <tr>\n",
              "      <th>max</th>\n",
              "      <td>9.000000</td>\n",
              "      <td>0.0</td>\n",
              "      <td>0.0</td>\n",
              "      <td>0.0</td>\n",
              "      <td>0.0</td>\n",
              "      <td>0.0</td>\n",
              "      <td>0.0</td>\n",
              "      <td>0.0</td>\n",
              "      <td>0.0</td>\n",
              "      <td>0.0</td>\n",
              "      <td>...</td>\n",
              "      <td>254.000000</td>\n",
              "      <td>254.000000</td>\n",
              "      <td>253.000000</td>\n",
              "      <td>253.000000</td>\n",
              "      <td>254.000000</td>\n",
              "      <td>62.000000</td>\n",
              "      <td>0.0</td>\n",
              "      <td>0.0</td>\n",
              "      <td>0.0</td>\n",
              "      <td>0.0</td>\n",
              "    </tr>\n",
              "  </tbody>\n",
              "</table>\n",
              "<p>8 rows × 785 columns</p>\n",
              "</div>\n",
              "    <div class=\"colab-df-buttons\">\n",
              "\n",
              "  <div class=\"colab-df-container\">\n",
              "    <button class=\"colab-df-convert\" onclick=\"convertToInteractive('df-35a0d567-1ecf-44ef-bc70-3edce051eda9')\"\n",
              "            title=\"Convert this dataframe to an interactive table.\"\n",
              "            style=\"display:none;\">\n",
              "\n",
              "  <svg xmlns=\"http://www.w3.org/2000/svg\" height=\"24px\" viewBox=\"0 -960 960 960\">\n",
              "    <path d=\"M120-120v-720h720v720H120Zm60-500h600v-160H180v160Zm220 220h160v-160H400v160Zm0 220h160v-160H400v160ZM180-400h160v-160H180v160Zm440 0h160v-160H620v160ZM180-180h160v-160H180v160Zm440 0h160v-160H620v160Z\"/>\n",
              "  </svg>\n",
              "    </button>\n",
              "\n",
              "  <style>\n",
              "    .colab-df-container {\n",
              "      display:flex;\n",
              "      gap: 12px;\n",
              "    }\n",
              "\n",
              "    .colab-df-convert {\n",
              "      background-color: #E8F0FE;\n",
              "      border: none;\n",
              "      border-radius: 50%;\n",
              "      cursor: pointer;\n",
              "      display: none;\n",
              "      fill: #1967D2;\n",
              "      height: 32px;\n",
              "      padding: 0 0 0 0;\n",
              "      width: 32px;\n",
              "    }\n",
              "\n",
              "    .colab-df-convert:hover {\n",
              "      background-color: #E2EBFA;\n",
              "      box-shadow: 0px 1px 2px rgba(60, 64, 67, 0.3), 0px 1px 3px 1px rgba(60, 64, 67, 0.15);\n",
              "      fill: #174EA6;\n",
              "    }\n",
              "\n",
              "    .colab-df-buttons div {\n",
              "      margin-bottom: 4px;\n",
              "    }\n",
              "\n",
              "    [theme=dark] .colab-df-convert {\n",
              "      background-color: #3B4455;\n",
              "      fill: #D2E3FC;\n",
              "    }\n",
              "\n",
              "    [theme=dark] .colab-df-convert:hover {\n",
              "      background-color: #434B5C;\n",
              "      box-shadow: 0px 1px 3px 1px rgba(0, 0, 0, 0.15);\n",
              "      filter: drop-shadow(0px 1px 2px rgba(0, 0, 0, 0.3));\n",
              "      fill: #FFFFFF;\n",
              "    }\n",
              "  </style>\n",
              "\n",
              "    <script>\n",
              "      const buttonEl =\n",
              "        document.querySelector('#df-35a0d567-1ecf-44ef-bc70-3edce051eda9 button.colab-df-convert');\n",
              "      buttonEl.style.display =\n",
              "        google.colab.kernel.accessAllowed ? 'block' : 'none';\n",
              "\n",
              "      async function convertToInteractive(key) {\n",
              "        const element = document.querySelector('#df-35a0d567-1ecf-44ef-bc70-3edce051eda9');\n",
              "        const dataTable =\n",
              "          await google.colab.kernel.invokeFunction('convertToInteractive',\n",
              "                                                    [key], {});\n",
              "        if (!dataTable) return;\n",
              "\n",
              "        const docLinkHtml = 'Like what you see? Visit the ' +\n",
              "          '<a target=\"_blank\" href=https://colab.research.google.com/notebooks/data_table.ipynb>data table notebook</a>'\n",
              "          + ' to learn more about interactive tables.';\n",
              "        element.innerHTML = '';\n",
              "        dataTable['output_type'] = 'display_data';\n",
              "        await google.colab.output.renderOutput(dataTable, element);\n",
              "        const docLink = document.createElement('div');\n",
              "        docLink.innerHTML = docLinkHtml;\n",
              "        element.appendChild(docLink);\n",
              "      }\n",
              "    </script>\n",
              "  </div>\n",
              "\n",
              "\n",
              "<div id=\"df-72a0a818-2d87-4fc6-9b02-ab85ae5cad6e\">\n",
              "  <button class=\"colab-df-quickchart\" onclick=\"quickchart('df-72a0a818-2d87-4fc6-9b02-ab85ae5cad6e')\"\n",
              "            title=\"Suggest charts\"\n",
              "            style=\"display:none;\">\n",
              "\n",
              "<svg xmlns=\"http://www.w3.org/2000/svg\" height=\"24px\"viewBox=\"0 0 24 24\"\n",
              "     width=\"24px\">\n",
              "    <g>\n",
              "        <path d=\"M19 3H5c-1.1 0-2 .9-2 2v14c0 1.1.9 2 2 2h14c1.1 0 2-.9 2-2V5c0-1.1-.9-2-2-2zM9 17H7v-7h2v7zm4 0h-2V7h2v10zm4 0h-2v-4h2v4z\"/>\n",
              "    </g>\n",
              "</svg>\n",
              "  </button>\n",
              "\n",
              "<style>\n",
              "  .colab-df-quickchart {\n",
              "      --bg-color: #E8F0FE;\n",
              "      --fill-color: #1967D2;\n",
              "      --hover-bg-color: #E2EBFA;\n",
              "      --hover-fill-color: #174EA6;\n",
              "      --disabled-fill-color: #AAA;\n",
              "      --disabled-bg-color: #DDD;\n",
              "  }\n",
              "\n",
              "  [theme=dark] .colab-df-quickchart {\n",
              "      --bg-color: #3B4455;\n",
              "      --fill-color: #D2E3FC;\n",
              "      --hover-bg-color: #434B5C;\n",
              "      --hover-fill-color: #FFFFFF;\n",
              "      --disabled-bg-color: #3B4455;\n",
              "      --disabled-fill-color: #666;\n",
              "  }\n",
              "\n",
              "  .colab-df-quickchart {\n",
              "    background-color: var(--bg-color);\n",
              "    border: none;\n",
              "    border-radius: 50%;\n",
              "    cursor: pointer;\n",
              "    display: none;\n",
              "    fill: var(--fill-color);\n",
              "    height: 32px;\n",
              "    padding: 0;\n",
              "    width: 32px;\n",
              "  }\n",
              "\n",
              "  .colab-df-quickchart:hover {\n",
              "    background-color: var(--hover-bg-color);\n",
              "    box-shadow: 0 1px 2px rgba(60, 64, 67, 0.3), 0 1px 3px 1px rgba(60, 64, 67, 0.15);\n",
              "    fill: var(--button-hover-fill-color);\n",
              "  }\n",
              "\n",
              "  .colab-df-quickchart-complete:disabled,\n",
              "  .colab-df-quickchart-complete:disabled:hover {\n",
              "    background-color: var(--disabled-bg-color);\n",
              "    fill: var(--disabled-fill-color);\n",
              "    box-shadow: none;\n",
              "  }\n",
              "\n",
              "  .colab-df-spinner {\n",
              "    border: 2px solid var(--fill-color);\n",
              "    border-color: transparent;\n",
              "    border-bottom-color: var(--fill-color);\n",
              "    animation:\n",
              "      spin 1s steps(1) infinite;\n",
              "  }\n",
              "\n",
              "  @keyframes spin {\n",
              "    0% {\n",
              "      border-color: transparent;\n",
              "      border-bottom-color: var(--fill-color);\n",
              "      border-left-color: var(--fill-color);\n",
              "    }\n",
              "    20% {\n",
              "      border-color: transparent;\n",
              "      border-left-color: var(--fill-color);\n",
              "      border-top-color: var(--fill-color);\n",
              "    }\n",
              "    30% {\n",
              "      border-color: transparent;\n",
              "      border-left-color: var(--fill-color);\n",
              "      border-top-color: var(--fill-color);\n",
              "      border-right-color: var(--fill-color);\n",
              "    }\n",
              "    40% {\n",
              "      border-color: transparent;\n",
              "      border-right-color: var(--fill-color);\n",
              "      border-top-color: var(--fill-color);\n",
              "    }\n",
              "    60% {\n",
              "      border-color: transparent;\n",
              "      border-right-color: var(--fill-color);\n",
              "    }\n",
              "    80% {\n",
              "      border-color: transparent;\n",
              "      border-right-color: var(--fill-color);\n",
              "      border-bottom-color: var(--fill-color);\n",
              "    }\n",
              "    90% {\n",
              "      border-color: transparent;\n",
              "      border-bottom-color: var(--fill-color);\n",
              "    }\n",
              "  }\n",
              "</style>\n",
              "\n",
              "  <script>\n",
              "    async function quickchart(key) {\n",
              "      const quickchartButtonEl =\n",
              "        document.querySelector('#' + key + ' button');\n",
              "      quickchartButtonEl.disabled = true;  // To prevent multiple clicks.\n",
              "      quickchartButtonEl.classList.add('colab-df-spinner');\n",
              "      try {\n",
              "        const charts = await google.colab.kernel.invokeFunction(\n",
              "            'suggestCharts', [key], {});\n",
              "      } catch (error) {\n",
              "        console.error('Error during call to suggestCharts:', error);\n",
              "      }\n",
              "      quickchartButtonEl.classList.remove('colab-df-spinner');\n",
              "      quickchartButtonEl.classList.add('colab-df-quickchart-complete');\n",
              "    }\n",
              "    (() => {\n",
              "      let quickchartButtonEl =\n",
              "        document.querySelector('#df-72a0a818-2d87-4fc6-9b02-ab85ae5cad6e button');\n",
              "      quickchartButtonEl.style.display =\n",
              "        google.colab.kernel.accessAllowed ? 'block' : 'none';\n",
              "    })();\n",
              "  </script>\n",
              "</div>\n",
              "\n",
              "    </div>\n",
              "  </div>\n"
            ],
            "application/vnd.google.colaboratory.intrinsic+json": {
              "type": "dataframe"
            }
          },
          "metadata": {},
          "execution_count": 15
        }
      ]
    },
    {
      "cell_type": "code",
      "source": [
        "#check for any missing values in train data\n",
        "df.isnull().any().sum()"
      ],
      "metadata": {
        "id": "e8htNvpiRC-J",
        "colab": {
          "base_uri": "https://localhost:8080/"
        },
        "outputId": "e163239d-7619-4a64-a2e3-81676f98edfe"
      },
      "execution_count": null,
      "outputs": [
        {
          "output_type": "execute_result",
          "data": {
            "text/plain": [
              "222"
            ]
          },
          "metadata": {},
          "execution_count": 16
        }
      ]
    },
    {
      "cell_type": "code",
      "source": [
        "#check for any missing values in test data\n",
        "df_test.isnull().any().sum()"
      ],
      "metadata": {
        "id": "mtOrYR1zRWlX",
        "colab": {
          "base_uri": "https://localhost:8080/"
        },
        "outputId": "1e82c68a-d0ab-4da9-804e-7afda28040c9"
      },
      "execution_count": null,
      "outputs": [
        {
          "output_type": "execute_result",
          "data": {
            "text/plain": [
              "0"
            ]
          },
          "metadata": {},
          "execution_count": 17
        }
      ]
    },
    {
      "cell_type": "code",
      "source": [
        "## Setting the seeds for Reproducibility.\n",
        "seed = 3141\n",
        "np.random.seed(seed)"
      ],
      "metadata": {
        "id": "XKN2qDpoSJIU"
      },
      "execution_count": null,
      "outputs": []
    },
    {
      "cell_type": "code",
      "source": [
        "# X is the pixels and Y is the image labels\n",
        "X = train.iloc[:,1:]\n",
        "Y = train.iloc[:,0]\n",
        "\n",
        "#splitting dataframe using train_test_split\n",
        "x_train , x_test , y_train , y_test = train_test_split(X, Y , test_size=0.1, random_state=seed)\n"
      ],
      "metadata": {
        "id": "kzZkb5PpEQh_"
      },
      "execution_count": null,
      "outputs": []
    },
    {
      "cell_type": "code",
      "source": [
        "#first param in reshape is number of examples. We can pass -1 here as we want numpy to figure that out by itself\n",
        "\n",
        "#reshape(examples, height, width, channels)\n",
        "x_train = x_train.values.reshape(-1, 28, 28, 1)\n",
        "x_test = x_test.values.reshape(-1, 28, 28, 1)\n",
        "df_test=df_test.values.reshape(-1,28,28,1)"
      ],
      "metadata": {
        "id": "ao-Hnv4uSVUI"
      },
      "execution_count": null,
      "outputs": []
    },
    {
      "cell_type": "code",
      "source": [
        "datagen = ImageDataGenerator(\n",
        "            featurewise_center=False,  # set input mean to 0 over the dataset\n",
        "            samplewise_center=False,  # set each sample mean to 0\n",
        "            featurewise_std_normalization=False,  # divide inputs by std of the dataset\n",
        "            samplewise_std_normalization=False,  # divide each input by its std\n",
        "            zca_whitening=False,  # apply ZCA whitening\n",
        "            rotation_range=10,  # randomly rotate images in the range (degrees, 0 to 180)\n",
        "            zoom_range = 0.1, # Randomly zoom image\n",
        "            width_shift_range=0.1,  # randomly shift images horizontally (fraction of total width)\n",
        "            height_shift_range=0.1,  # randomly shift images vertically (fraction of total height)\n",
        "            horizontal_flip=False,  # randomly flip images\n",
        "            vertical_flip=False)  # randomly flip images"
      ],
      "metadata": {
        "id": "zC_xpQdISkbs"
      },
      "execution_count": null,
      "outputs": []
    },
    {
      "cell_type": "code",
      "source": [
        "#convert values to float as result will be a float. If not done vals are set to zero\n",
        "\n",
        "x_train = x_train.astype(\"float32\")/255\n",
        "x_test = x_test.astype(\"float32\")/255\n",
        "df_test = df_test.astype(\"float32\")/255"
      ],
      "metadata": {
        "id": "taj1Dy9HY7S3"
      },
      "execution_count": null,
      "outputs": []
    },
    {
      "cell_type": "code",
      "source": [
        "#fitting the ImageDataGenerator we defined above\n",
        "datagen.fit(x_train)"
      ],
      "metadata": {
        "id": "WA8ekZPvORUk"
      },
      "execution_count": null,
      "outputs": []
    },
    {
      "cell_type": "code",
      "source": [
        "#notice num_classes is set to 10 as we have 10 different labels\n",
        "y_train = to_categorical(y_train, num_classes=10)\n",
        "y_test = to_categorical(y_test, num_classes=10)\n",
        "\n",
        "print(y_train[0])"
      ],
      "metadata": {
        "colab": {
          "base_uri": "https://localhost:8080/"
        },
        "id": "FLyff1ePDjUb",
        "outputId": "60201a1d-9af1-4a8d-92ac-165c83898044"
      },
      "execution_count": null,
      "outputs": [
        {
          "output_type": "stream",
          "name": "stdout",
          "text": [
            "[0. 1. 0. 0. 0. 0. 0. 0. 0. 0.]\n"
          ]
        }
      ]
    },
    {
      "cell_type": "code",
      "source": [
        "#Conv2d data_format parameter we use 'channel_last' for imgs\n",
        "\n",
        "model = Sequential()\n",
        "\n",
        "model.add(Conv2D(filters=32, kernel_size=(3, 3), activation='relu', strides=1, padding='same', data_format='channels_last',\n",
        "                 input_shape=(28,28,1)))\n",
        "model.add(BatchNormalization())\n",
        "model.add(Conv2D(filters=32, kernel_size=(3, 3), activation='relu', strides=1, padding='same', data_format='channels_last'))\n",
        "model.add(BatchNormalization())\n",
        "model.add(MaxPooling2D(pool_size=(2, 2), strides=2, padding='valid' ))\n",
        "model.add(Dropout(0.25))\n",
        "\n",
        "model.add(Conv2D(filters=64, kernel_size=(3, 3), activation='relu', strides=1, padding='same', data_format='channels_last'))\n",
        "model.add(BatchNormalization())\n",
        "model.add(Conv2D(filters=64, kernel_size=(3, 3), strides=1, padding='same', activation='relu', data_format='channels_last'))\n",
        "model.add(BatchNormalization())\n",
        "model.add(MaxPooling2D(pool_size=(2, 2), padding='valid', strides=2))\n",
        "model.add(Dropout(0.25))\n",
        "\n",
        "model.add(Flatten())\n",
        "model.add(Dense(512, activation='relu'))\n",
        "model.add(BatchNormalization())\n",
        "model.add(Dropout(0.25))\n",
        "model.add(Dense(1024, activation='relu'))\n",
        "model.add(BatchNormalization())\n",
        "model.add(Dropout(0.5))\n",
        "model.add(Dense(10, activation='softmax'))"
      ],
      "metadata": {
        "id": "_eBvFIc9FN0i"
      },
      "execution_count": null,
      "outputs": []
    },
    {
      "cell_type": "code",
      "source": [
        "#Optimizer\n",
        "optimizer = Adam(lr=0.001, beta_1=0.9, beta_2=0.999 )"
      ],
      "metadata": {
        "colab": {
          "base_uri": "https://localhost:8080/"
        },
        "id": "oas3DcXvFP-G",
        "outputId": "1f1c171c-2417-4eaf-d5d9-531b10453281"
      },
      "execution_count": null,
      "outputs": [
        {
          "output_type": "stream",
          "name": "stderr",
          "text": [
            "WARNING:absl:`lr` is deprecated in Keras optimizer, please use `learning_rate` or use the legacy optimizer, e.g.,tf.keras.optimizers.legacy.Adam.\n"
          ]
        }
      ]
    },
    {
      "cell_type": "code",
      "source": [
        "#Compiling the model\n",
        "model.compile(optimizer=optimizer, loss=\"categorical_crossentropy\", metrics=[\"accuracy\"])\n"
      ],
      "metadata": {
        "id": "IMhXLpxDFRvc"
      },
      "execution_count": null,
      "outputs": []
    },
    {
      "cell_type": "code",
      "source": [
        "model.summary()"
      ],
      "metadata": {
        "colab": {
          "base_uri": "https://localhost:8080/"
        },
        "id": "UuHUsuEOFTO9",
        "outputId": "2f3e17d8-6bd6-47a9-e017-d8a74f3a639c"
      },
      "execution_count": null,
      "outputs": [
        {
          "output_type": "stream",
          "name": "stdout",
          "text": [
            "Model: \"sequential\"\n",
            "_________________________________________________________________\n",
            " Layer (type)                Output Shape              Param #   \n",
            "=================================================================\n",
            " conv2d (Conv2D)             (None, 28, 28, 32)        320       \n",
            "                                                                 \n",
            " batch_normalization (Batch  (None, 28, 28, 32)        128       \n",
            " Normalization)                                                  \n",
            "                                                                 \n",
            " conv2d_1 (Conv2D)           (None, 28, 28, 32)        9248      \n",
            "                                                                 \n",
            " batch_normalization_1 (Bat  (None, 28, 28, 32)        128       \n",
            " chNormalization)                                                \n",
            "                                                                 \n",
            " max_pooling2d (MaxPooling2  (None, 14, 14, 32)        0         \n",
            " D)                                                              \n",
            "                                                                 \n",
            " dropout (Dropout)           (None, 14, 14, 32)        0         \n",
            "                                                                 \n",
            " conv2d_2 (Conv2D)           (None, 14, 14, 64)        18496     \n",
            "                                                                 \n",
            " batch_normalization_2 (Bat  (None, 14, 14, 64)        256       \n",
            " chNormalization)                                                \n",
            "                                                                 \n",
            " conv2d_3 (Conv2D)           (None, 14, 14, 64)        36928     \n",
            "                                                                 \n",
            " batch_normalization_3 (Bat  (None, 14, 14, 64)        256       \n",
            " chNormalization)                                                \n",
            "                                                                 \n",
            " max_pooling2d_1 (MaxPoolin  (None, 7, 7, 64)          0         \n",
            " g2D)                                                            \n",
            "                                                                 \n",
            " dropout_1 (Dropout)         (None, 7, 7, 64)          0         \n",
            "                                                                 \n",
            " flatten (Flatten)           (None, 3136)              0         \n",
            "                                                                 \n",
            " dense (Dense)               (None, 512)               1606144   \n",
            "                                                                 \n",
            " batch_normalization_4 (Bat  (None, 512)               2048      \n",
            " chNormalization)                                                \n",
            "                                                                 \n",
            " dropout_2 (Dropout)         (None, 512)               0         \n",
            "                                                                 \n",
            " dense_1 (Dense)             (None, 1024)              525312    \n",
            "                                                                 \n",
            " batch_normalization_5 (Bat  (None, 1024)              4096      \n",
            " chNormalization)                                                \n",
            "                                                                 \n",
            " dropout_3 (Dropout)         (None, 1024)              0         \n",
            "                                                                 \n",
            " dense_2 (Dense)             (None, 10)                10250     \n",
            "                                                                 \n",
            "=================================================================\n",
            "Total params: 2213610 (8.44 MB)\n",
            "Trainable params: 2210154 (8.43 MB)\n",
            "Non-trainable params: 3456 (13.50 KB)\n",
            "_________________________________________________________________\n"
          ]
        }
      ]
    },
    {
      "cell_type": "code",
      "source": [
        "#for our case LearningRateScheduler will work great\n",
        "reduce_lr = LearningRateScheduler(lambda x: 1e-3 * 0.9 ** x)"
      ],
      "metadata": {
        "id": "gVkP079zFV8e"
      },
      "execution_count": null,
      "outputs": []
    },
    {
      "cell_type": "code",
      "source": [
        "#visualizing what the learning rate decay will do to the learning rate through every epoch\n",
        "decays = [(lambda x: 1e-3 * 0.9 ** x)(x) for x in range(10)]\n",
        "i=1\n",
        "\n",
        "for lr in decays:\n",
        "    print(\"Epoch \" + str(i) +\" Learning Rate: \" + str(lr))\n",
        "    i+=1"
      ],
      "metadata": {
        "colab": {
          "base_uri": "https://localhost:8080/"
        },
        "id": "2zgezFjRFXi3",
        "outputId": "6968274e-697c-44e2-8ca8-e9b302a524b8"
      },
      "execution_count": null,
      "outputs": [
        {
          "output_type": "stream",
          "name": "stdout",
          "text": [
            "Epoch 1 Learning Rate: 0.001\n",
            "Epoch 2 Learning Rate: 0.0009000000000000001\n",
            "Epoch 3 Learning Rate: 0.0008100000000000001\n",
            "Epoch 4 Learning Rate: 0.0007290000000000002\n",
            "Epoch 5 Learning Rate: 0.0006561000000000001\n",
            "Epoch 6 Learning Rate: 0.00059049\n",
            "Epoch 7 Learning Rate: 0.000531441\n",
            "Epoch 8 Learning Rate: 0.0004782969000000001\n",
            "Epoch 9 Learning Rate: 0.0004304672100000001\n",
            "Epoch 10 Learning Rate: 0.0003874204890000001\n"
          ]
        }
      ]
    },
    {
      "cell_type": "code",
      "source": [
        "#by default this is evaluated on 'val_loss'\n",
        "early_stopping = EarlyStopping(\n",
        "    min_delta=0.001, # minimium amount of change to count as an improvement\n",
        "    patience=20, # how many epochs to wait before stopping\n",
        "    restore_best_weights=True,\n",
        ")"
      ],
      "metadata": {
        "id": "00P-WUW2FZYx"
      },
      "execution_count": null,
      "outputs": []
    },
    {
      "cell_type": "code",
      "source": [
        "#defining these prior to model to increase readability and debugging\n",
        "batch_size = 64\n",
        "epochs = 50"
      ],
      "metadata": {
        "id": "LiGgkGc3FblW"
      },
      "execution_count": null,
      "outputs": []
    },
    {
      "cell_type": "code",
      "source": [
        "# Fit the Model\n",
        "history = model.fit_generator(datagen.flow(x_train, y_train, batch_size = batch_size), epochs = epochs,\n",
        "                              validation_data = (x_test, y_test), verbose=1,\n",
        "                              steps_per_epoch=x_train.shape[0] // batch_size,\n",
        "                              callbacks = [reduce_lr]) #left out early_stopping parameter as it gets better accuracy"
      ],
      "metadata": {
        "colab": {
          "base_uri": "https://localhost:8080/"
        },
        "id": "617XjlhbFdaZ",
        "outputId": "9e1a196c-e168-4913-fd59-2c482a17fa2a"
      },
      "execution_count": null,
      "outputs": [
        {
          "output_type": "stream",
          "name": "stderr",
          "text": [
            "<ipython-input-33-81d211fe898b>:2: UserWarning: `Model.fit_generator` is deprecated and will be removed in a future version. Please use `Model.fit`, which supports generators.\n",
            "  history = model.fit_generator(datagen.flow(x_train, y_train, batch_size = batch_size), epochs = epochs,\n"
          ]
        },
        {
          "output_type": "stream",
          "name": "stdout",
          "text": [
            "Epoch 1/50\n",
            "556/556 [==============================] - 28s 31ms/step - loss: 0.4079 - accuracy: 0.8825 - val_loss: 0.0812 - val_accuracy: 0.9712 - lr: 0.0010\n",
            "Epoch 2/50\n",
            "556/556 [==============================] - 17s 30ms/step - loss: 0.1359 - accuracy: 0.9590 - val_loss: 0.0590 - val_accuracy: 0.9813 - lr: 9.0000e-04\n",
            "Epoch 3/50\n",
            "556/556 [==============================] - 17s 30ms/step - loss: 0.1073 - accuracy: 0.9687 - val_loss: 0.0365 - val_accuracy: 0.9899 - lr: 8.1000e-04\n",
            "Epoch 4/50\n",
            "556/556 [==============================] - 17s 30ms/step - loss: 0.0860 - accuracy: 0.9747 - val_loss: 0.0296 - val_accuracy: 0.9907 - lr: 7.2900e-04\n",
            "Epoch 5/50\n",
            "556/556 [==============================] - 16s 29ms/step - loss: 0.0706 - accuracy: 0.9784 - val_loss: 0.0441 - val_accuracy: 0.9856 - lr: 6.5610e-04\n",
            "Epoch 6/50\n",
            "556/556 [==============================] - 17s 30ms/step - loss: 0.0688 - accuracy: 0.9784 - val_loss: 0.0216 - val_accuracy: 0.9949 - lr: 5.9049e-04\n",
            "Epoch 7/50\n",
            "556/556 [==============================] - 16s 30ms/step - loss: 0.0568 - accuracy: 0.9831 - val_loss: 0.0405 - val_accuracy: 0.9891 - lr: 5.3144e-04\n",
            "Epoch 8/50\n",
            "556/556 [==============================] - 17s 31ms/step - loss: 0.0565 - accuracy: 0.9822 - val_loss: 0.0274 - val_accuracy: 0.9937 - lr: 4.7830e-04\n",
            "Epoch 9/50\n",
            "556/556 [==============================] - 17s 30ms/step - loss: 0.0508 - accuracy: 0.9846 - val_loss: 0.0236 - val_accuracy: 0.9924 - lr: 4.3047e-04\n",
            "Epoch 10/50\n",
            "556/556 [==============================] - 16s 29ms/step - loss: 0.0459 - accuracy: 0.9852 - val_loss: 0.0199 - val_accuracy: 0.9939 - lr: 3.8742e-04\n",
            "Epoch 11/50\n",
            "556/556 [==============================] - 17s 30ms/step - loss: 0.0411 - accuracy: 0.9874 - val_loss: 0.0296 - val_accuracy: 0.9909 - lr: 3.4868e-04\n",
            "Epoch 12/50\n",
            "556/556 [==============================] - 18s 32ms/step - loss: 0.0406 - accuracy: 0.9881 - val_loss: 0.0265 - val_accuracy: 0.9934 - lr: 3.1381e-04\n",
            "Epoch 13/50\n",
            "556/556 [==============================] - 16s 29ms/step - loss: 0.0358 - accuracy: 0.9889 - val_loss: 0.0219 - val_accuracy: 0.9949 - lr: 2.8243e-04\n",
            "Epoch 14/50\n",
            "556/556 [==============================] - 16s 29ms/step - loss: 0.0346 - accuracy: 0.9889 - val_loss: 0.0196 - val_accuracy: 0.9944 - lr: 2.5419e-04\n",
            "Epoch 15/50\n",
            "556/556 [==============================] - 16s 30ms/step - loss: 0.0324 - accuracy: 0.9901 - val_loss: 0.0155 - val_accuracy: 0.9942 - lr: 2.2877e-04\n",
            "Epoch 16/50\n",
            "556/556 [==============================] - 17s 30ms/step - loss: 0.0307 - accuracy: 0.9906 - val_loss: 0.0165 - val_accuracy: 0.9960 - lr: 2.0589e-04\n",
            "Epoch 17/50\n",
            "556/556 [==============================] - 17s 30ms/step - loss: 0.0274 - accuracy: 0.9914 - val_loss: 0.0172 - val_accuracy: 0.9949 - lr: 1.8530e-04\n",
            "Epoch 18/50\n",
            "556/556 [==============================] - 16s 30ms/step - loss: 0.0266 - accuracy: 0.9922 - val_loss: 0.0140 - val_accuracy: 0.9970 - lr: 1.6677e-04\n",
            "Epoch 19/50\n",
            "556/556 [==============================] - 16s 29ms/step - loss: 0.0260 - accuracy: 0.9923 - val_loss: 0.0132 - val_accuracy: 0.9962 - lr: 1.5009e-04\n",
            "Epoch 20/50\n",
            "556/556 [==============================] - 18s 32ms/step - loss: 0.0219 - accuracy: 0.9927 - val_loss: 0.0150 - val_accuracy: 0.9957 - lr: 1.3509e-04\n",
            "Epoch 21/50\n",
            "556/556 [==============================] - 17s 30ms/step - loss: 0.0232 - accuracy: 0.9925 - val_loss: 0.0142 - val_accuracy: 0.9957 - lr: 1.2158e-04\n",
            "Epoch 22/50\n",
            "556/556 [==============================] - 16s 29ms/step - loss: 0.0247 - accuracy: 0.9927 - val_loss: 0.0144 - val_accuracy: 0.9960 - lr: 1.0942e-04\n",
            "Epoch 23/50\n",
            "556/556 [==============================] - 16s 29ms/step - loss: 0.0200 - accuracy: 0.9936 - val_loss: 0.0141 - val_accuracy: 0.9962 - lr: 9.8477e-05\n",
            "Epoch 24/50\n",
            "556/556 [==============================] - 17s 31ms/step - loss: 0.0188 - accuracy: 0.9939 - val_loss: 0.0144 - val_accuracy: 0.9970 - lr: 8.8629e-05\n",
            "Epoch 25/50\n",
            "556/556 [==============================] - 17s 31ms/step - loss: 0.0191 - accuracy: 0.9941 - val_loss: 0.0144 - val_accuracy: 0.9965 - lr: 7.9766e-05\n",
            "Epoch 26/50\n",
            "556/556 [==============================] - 16s 29ms/step - loss: 0.0182 - accuracy: 0.9944 - val_loss: 0.0140 - val_accuracy: 0.9962 - lr: 7.1790e-05\n",
            "Epoch 27/50\n",
            "556/556 [==============================] - 16s 29ms/step - loss: 0.0164 - accuracy: 0.9947 - val_loss: 0.0155 - val_accuracy: 0.9967 - lr: 6.4611e-05\n",
            "Epoch 28/50\n",
            "556/556 [==============================] - 16s 30ms/step - loss: 0.0160 - accuracy: 0.9949 - val_loss: 0.0143 - val_accuracy: 0.9967 - lr: 5.8150e-05\n",
            "Epoch 29/50\n",
            "556/556 [==============================] - 18s 32ms/step - loss: 0.0175 - accuracy: 0.9942 - val_loss: 0.0156 - val_accuracy: 0.9965 - lr: 5.2335e-05\n",
            "Epoch 30/50\n",
            "556/556 [==============================] - 16s 29ms/step - loss: 0.0158 - accuracy: 0.9948 - val_loss: 0.0141 - val_accuracy: 0.9962 - lr: 4.7101e-05\n",
            "Epoch 31/50\n",
            "556/556 [==============================] - 17s 30ms/step - loss: 0.0167 - accuracy: 0.9946 - val_loss: 0.0142 - val_accuracy: 0.9967 - lr: 4.2391e-05\n",
            "Epoch 32/50\n",
            "556/556 [==============================] - 17s 30ms/step - loss: 0.0157 - accuracy: 0.9950 - val_loss: 0.0147 - val_accuracy: 0.9967 - lr: 3.8152e-05\n",
            "Epoch 33/50\n",
            "556/556 [==============================] - 17s 30ms/step - loss: 0.0166 - accuracy: 0.9947 - val_loss: 0.0137 - val_accuracy: 0.9967 - lr: 3.4337e-05\n",
            "Epoch 34/50\n",
            "556/556 [==============================] - 17s 31ms/step - loss: 0.0160 - accuracy: 0.9952 - val_loss: 0.0137 - val_accuracy: 0.9967 - lr: 3.0903e-05\n",
            "Epoch 35/50\n",
            "556/556 [==============================] - 16s 29ms/step - loss: 0.0169 - accuracy: 0.9944 - val_loss: 0.0132 - val_accuracy: 0.9970 - lr: 2.7813e-05\n",
            "Epoch 36/50\n",
            "556/556 [==============================] - 16s 29ms/step - loss: 0.0166 - accuracy: 0.9947 - val_loss: 0.0143 - val_accuracy: 0.9970 - lr: 2.5032e-05\n",
            "Epoch 37/50\n",
            "556/556 [==============================] - 17s 31ms/step - loss: 0.0148 - accuracy: 0.9952 - val_loss: 0.0138 - val_accuracy: 0.9965 - lr: 2.2528e-05\n",
            "Epoch 38/50\n",
            "556/556 [==============================] - 16s 28ms/step - loss: 0.0136 - accuracy: 0.9951 - val_loss: 0.0136 - val_accuracy: 0.9970 - lr: 2.0276e-05\n",
            "Epoch 39/50\n",
            "556/556 [==============================] - 16s 28ms/step - loss: 0.0157 - accuracy: 0.9949 - val_loss: 0.0134 - val_accuracy: 0.9972 - lr: 1.8248e-05\n",
            "Epoch 40/50\n",
            "556/556 [==============================] - 16s 29ms/step - loss: 0.0152 - accuracy: 0.9954 - val_loss: 0.0136 - val_accuracy: 0.9972 - lr: 1.6423e-05\n",
            "Epoch 41/50\n",
            "556/556 [==============================] - 16s 29ms/step - loss: 0.0133 - accuracy: 0.9957 - val_loss: 0.0140 - val_accuracy: 0.9970 - lr: 1.4781e-05\n",
            "Epoch 42/50\n",
            "556/556 [==============================] - 16s 29ms/step - loss: 0.0132 - accuracy: 0.9958 - val_loss: 0.0134 - val_accuracy: 0.9970 - lr: 1.3303e-05\n",
            "Epoch 43/50\n",
            "556/556 [==============================] - 17s 30ms/step - loss: 0.0138 - accuracy: 0.9956 - val_loss: 0.0140 - val_accuracy: 0.9965 - lr: 1.1973e-05\n",
            "Epoch 44/50\n",
            "556/556 [==============================] - 16s 29ms/step - loss: 0.0144 - accuracy: 0.9958 - val_loss: 0.0140 - val_accuracy: 0.9962 - lr: 1.0775e-05\n",
            "Epoch 45/50\n",
            "556/556 [==============================] - 16s 28ms/step - loss: 0.0129 - accuracy: 0.9958 - val_loss: 0.0139 - val_accuracy: 0.9967 - lr: 9.6977e-06\n",
            "Epoch 46/50\n",
            "556/556 [==============================] - 16s 29ms/step - loss: 0.0140 - accuracy: 0.9956 - val_loss: 0.0138 - val_accuracy: 0.9965 - lr: 8.7280e-06\n",
            "Epoch 47/50\n",
            "556/556 [==============================] - 16s 29ms/step - loss: 0.0138 - accuracy: 0.9953 - val_loss: 0.0137 - val_accuracy: 0.9965 - lr: 7.8552e-06\n",
            "Epoch 48/50\n",
            "556/556 [==============================] - 16s 28ms/step - loss: 0.0137 - accuracy: 0.9959 - val_loss: 0.0137 - val_accuracy: 0.9967 - lr: 7.0697e-06\n",
            "Epoch 49/50\n",
            "556/556 [==============================] - 16s 28ms/step - loss: 0.0129 - accuracy: 0.9960 - val_loss: 0.0137 - val_accuracy: 0.9965 - lr: 6.3627e-06\n",
            "Epoch 50/50\n",
            "556/556 [==============================] - 16s 28ms/step - loss: 0.0129 - accuracy: 0.9958 - val_loss: 0.0140 - val_accuracy: 0.9965 - lr: 5.7264e-06\n"
          ]
        }
      ]
    },
    {
      "cell_type": "code",
      "source": [
        "import matplotlib.pyplot as plt"
      ],
      "metadata": {
        "id": "PLJXCgxAFkVx"
      },
      "execution_count": null,
      "outputs": []
    },
    {
      "cell_type": "code",
      "source": [
        "plt.figure(figsize=(13, 5))\n",
        "plt.plot(history.history['loss'])\n",
        "plt.plot(history.history['val_loss'])\n",
        "plt.title(\"Model Loss\")\n",
        "plt.xlabel('Epochs')\n",
        "plt.ylabel('Loss')\n",
        "plt.legend(['Train', 'Test'])\n",
        "plt.grid()\n",
        "plt.show()"
      ],
      "metadata": {
        "colab": {
          "base_uri": "https://localhost:8080/",
          "height": 384
        },
        "id": "WNueZn2OFn7B",
        "outputId": "38e60327-d9dc-4215-909a-bb16bec1cddf"
      },
      "execution_count": null,
      "outputs": [
        {
          "output_type": "display_data",
          "data": {
            "text/plain": [
              "<Figure size 1300x500 with 1 Axes>"
            ],
            "image/png": "[encoded data removed]"
          },
          "metadata": {}
        }
      ]
    },
    {
      "cell_type": "code",
      "source": [
        "plt.figure(figsize=(13, 5))\n",
        "plt.plot(history.history['accuracy'])\n",
        "plt.plot(history.history['val_accuracy'])\n",
        "plt.title('Model Accuracy')\n",
        "plt.xlabel('Epochs')\n",
        "plt.ylabel('Accuracy')\n",
        "plt.legend(['Train','Test'])\n",
        "plt.grid()\n",
        "plt.show()"
      ],
      "metadata": {
        "colab": {
          "base_uri": "https://localhost:8080/",
          "height": 384
        },
        "id": "QdQAOIi7FqDX",
        "outputId": "22517a06-2e56-435e-e38c-f6fbad56c137"
      },
      "execution_count": null,
      "outputs": [
        {
          "output_type": "display_data",
          "data": {
            "text/plain": [
              "<Figure size 1300x500 with 1 Axes>"
            ],
            "image/png": "[encoded data removed]"
          },
          "metadata": {}
        }
      ]
    },
    {
      "cell_type": "code",
      "source": [
        "pred_digits_test = np.argmax(model.predict(df_test),axis=1)\n",
        "image_id_test = []\n",
        "\n",
        "for i in range (len(pred_digits_test)):\n",
        "    image_id_test.append(i+1)\n",
        "\n",
        "d = {'ImageId':image_id_test,'Label':pred_digits_test}\n",
        "answer = pd.DataFrame(d)\n",
        "\n",
        "answer.to_csv('answer.csv',index=False)"
      ],
      "metadata": {
        "id": "Dm_-irYDFry8",
        "colab": {
          "base_uri": "https://localhost:8080/"
        },
        "outputId": "755ebd39-42d8-455d-ea2e-5e470cc305a6"
      },
      "execution_count": null,
      "outputs": [
        {
          "output_type": "stream",
          "name": "stdout",
          "text": [
            "875/875 [==============================] - 3s 3ms/step\n"
          ]
        }
      ]
    }
  ]
}